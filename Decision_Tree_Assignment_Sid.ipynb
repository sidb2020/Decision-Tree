{
  "nbformat": 4,
  "nbformat_minor": 0,
  "metadata": {
    "colab": {
      "provenance": []
    },
    "kernelspec": {
      "name": "python3",
      "display_name": "Python 3"
    },
    "language_info": {
      "name": "python"
    }
  },
  "cells": [
    {
      "cell_type": "markdown",
      "source": [
        "#Decision Tree Theoretical Questions\n",
        "\n",
        "####1. **What is a Decision Tree, and how does it work ?**\n",
        "\n",
        "**Answer:**\n",
        "A Decision Tree is a supervised machine learning algorithm used for both classification and regression. It splits the dataset into subsets based on the value of input features. This process continues recursively to form a tree structure where each internal node represents a feature, each branch a decision rule, and each leaf a final output or label.\n",
        "\n",
        "---\n",
        "\n",
        "####2. **What are impurity measures in Decision Trees ?**\n",
        "\n",
        "**Answer:**\n",
        "Impurity measures indicate the degree of heterogeneity in the target values at a node. Common impurity measures include:\n",
        "\n",
        "* **Gini Impurity**\n",
        "* **Entropy (Information Gain)**\n",
        "  These are used to evaluate how good a split is — the lower the impurity, the better the split.\n",
        "\n",
        "---\n",
        "\n",
        "####3. **What is the mathematical formula for Gini Impurity ?**\n",
        "\n",
        "**Answer:**\n",
        "$$\n",
        "Gini = 1 - \\sum_{i=1}^{n} p_i^2\n",
        "$$\n",
        "\n",
        "Where $p_i$ is the probability of a data point belonging to class $i$, and $n$ is the number of classes.\n",
        "\n",
        "---\n",
        "\n",
        "####4. **What is the mathematical formula for Entropy ?**\n",
        "\n",
        "**Answer:**\n",
        "$$\n",
        "Entropy = - \\sum_{i=1}^{n} p_i \\log_2(p_i)\n",
        "$$\n",
        "\n",
        "Where $p_i$ is the proportion of class $i$ in the dataset. Higher entropy means more disorder.\n",
        "\n",
        "---\n",
        "\n",
        "####5. **What is Information Gain, and how is it used in Decision Trees ?**\n",
        "\n",
        "**Answer:**\n",
        "Information Gain is the reduction in entropy or impurity from splitting a node. It is calculated as:\n",
        "\n",
        "$$\n",
        "IG = Entropy(parent) - \\sum_{j} \\frac{n_j}{n} \\cdot Entropy(child_j)\n",
        "$$\n",
        "\n",
        "It helps in selecting the feature that best splits the dataset at each step.\n",
        "\n",
        "---\n",
        "\n",
        "####6. **What is the difference between Gini Impurity and Entropy ?**\n",
        "\n",
        "**Answer:**\n",
        "* **Gini Impurity** is generally faster to compute and focuses on misclassification.\n",
        "* **Entropy** uses logarithms and captures more information but is computationally heavier.\n",
        "  Both serve a similar purpose in decision trees — measuring the quality of splits.\n",
        "\n",
        "---\n",
        "\n",
        "####7. **What is the mathematical explanation behind Decision Trees ?**\n",
        "\n",
        "**Answer:**\n",
        "Mathematically, a decision tree recursively partitions the feature space to minimize a loss function:\n",
        "\n",
        "* For classification: impurity (Gini or Entropy)\n",
        "* For regression: mean squared error\n",
        "  The optimal split maximizes Information Gain or minimizes impurity at each node.\n",
        "\n",
        "---\n",
        "\n",
        "####8. **What is Pre-Pruning in Decision Trees ?**\n",
        "\n",
        "**Answer:**\n",
        "Pre-pruning stops the tree from growing once a certain condition is met (e.g., max depth, min samples). This helps prevent overfitting by restricting complexity during training.\n",
        "\n",
        "---\n",
        "\n",
        "####9. **What is Post-Pruning in Decision Trees ?**\n",
        "\n",
        "**Answer:**\n",
        "Post-pruning first grows the full tree and then prunes back unnecessary branches using a validation set or cost complexity pruning. It removes overfitting after the tree has been fully constructed.\n",
        "\n",
        "---\n",
        "\n",
        "####10. **What is the difference between Pre-Pruning and Post-Pruning ?**\n",
        "\n",
        "**Answer:**\n",
        "* **Pre-Pruning:** Halts growth early using constraints.\n",
        "* **Post-Pruning:** Trims a fully grown tree.\n",
        "  Pre-pruning is more efficient, while post-pruning can often yield better generalization.\n",
        "\n",
        "---\n",
        "\n",
        "####11. **What is a Decision Tree Regressor ?**\n",
        "\n",
        "**Answer:**\n",
        "A Decision Tree Regressor predicts continuous numeric values by learning decision rules from the features. It splits data based on minimizing the variance or Mean Squared Error at each node.\n",
        "\n",
        "---\n",
        "\n",
        "####12. **What are the advantages and disadvantages of Decision Trees ?**\n",
        "\n",
        "**Answer:**\n",
        "**Advantages:**\n",
        "\n",
        "* Easy to interpret\n",
        "* Handles both numerical and categorical data\n",
        "* Requires little data preprocessing\n",
        "\n",
        "**Disadvantages:**\n",
        "\n",
        "* Prone to overfitting\n",
        "* Can be biased with imbalanced data\n",
        "* Instable to small data variations\n",
        "\n",
        "---\n",
        "\n",
        "####13. **How does a Decision Tree handle missing values ?**\n",
        "\n",
        "**Answer:**\n",
        "Decision Trees can handle missing values by:\n",
        "\n",
        "* Ignoring the instance or using surrogate splits\n",
        "* Imputing missing values during preprocessing\n",
        "* Using probability-based decisions when splitting\n",
        "\n",
        "---\n",
        "\n",
        "####14. **How does a Decision Tree handle categorical features ?**\n",
        "\n",
        "**Answer:**\n",
        "Categorical features can be:\n",
        "\n",
        "* Directly split based on category equality\n",
        "* Encoded using label encoding or one-hot encoding\n",
        "  Some implementations (like CART) require categorical features to be encoded numerically.\n",
        "\n",
        "---\n",
        "\n",
        "####15. **What are some real-world applications of Decision Trees ?**\n",
        "\n",
        "**Answer:**\n",
        "* Medical diagnosis (predicting diseases)\n",
        "* Financial risk assessment\n",
        "* Customer churn prediction\n",
        "* Fraud detection\n",
        "* Recommendation systems\n",
        "* Loan approval systems\n",
        "\n",
        "---"
      ],
      "metadata": {
        "id": "ulot7d0feg5G"
      }
    },
    {
      "cell_type": "code",
      "source": [
        "##Practical Questions\n",
        "#16. Write a Python program to train a Decision Tree Classifier on the Iris dataset and print the model accuracy.\n",
        "\n",
        "from sklearn.datasets import load_iris\n",
        "from sklearn.tree import DecisionTreeClassifier\n",
        "from sklearn.model_selection import train_test_split\n",
        "from sklearn.metrics import accuracy_score\n",
        "\n",
        "iris = load_iris()\n",
        "X_train, X_test, y_train, y_test = train_test_split(iris.data, iris.target, test_size=0.2, random_state=42)\n",
        "\n",
        "model = DecisionTreeClassifier()\n",
        "model.fit(X_train, y_train)\n",
        "y_pred = model.predict(X_test)\n",
        "\n",
        "print(\"Accuracy:\", accuracy_score(y_test, y_pred))"
      ],
      "metadata": {
        "colab": {
          "base_uri": "https://localhost:8080/"
        },
        "id": "awL7jE5CiTBA",
        "outputId": "d969bab2-52ad-4706-fa08-34dc0df1096f"
      },
      "execution_count": 1,
      "outputs": [
        {
          "output_type": "stream",
          "name": "stdout",
          "text": [
            "Accuracy: 1.0\n"
          ]
        }
      ]
    },
    {
      "cell_type": "code",
      "source": [
        "#17. Write a Python program to train a Decision Tree Classifier using Gini Impurity as the criterion and print the feature importances.\n",
        "\n",
        "model = DecisionTreeClassifier(criterion='gini')\n",
        "model.fit(X_train, y_train)\n",
        "\n",
        "print(\"Feature Importances:\", model.feature_importances_)"
      ],
      "metadata": {
        "colab": {
          "base_uri": "https://localhost:8080/"
        },
        "id": "OMcxoPeGr3xA",
        "outputId": "30e807e3-3866-4bd8-a1e1-d57562c4353f"
      },
      "execution_count": 2,
      "outputs": [
        {
          "output_type": "stream",
          "name": "stdout",
          "text": [
            "Feature Importances: [0.         0.01667014 0.90614339 0.07718647]\n"
          ]
        }
      ]
    },
    {
      "cell_type": "code",
      "source": [
        "#18. Write a Python program to train a Decision Tree Classifier using Entropy as the splitting criterion and print the model accuracy.\n",
        "\n",
        "model = DecisionTreeClassifier(criterion='entropy')\n",
        "model.fit(X_train, y_train)\n",
        "y_pred = model.predict(X_test)\n",
        "\n",
        "print(\"Accuracy:\", accuracy_score(y_test, y_pred))"
      ],
      "metadata": {
        "colab": {
          "base_uri": "https://localhost:8080/"
        },
        "id": "3-tl4wLYsHhV",
        "outputId": "1af9d25e-a867-4fdf-9127-800710386975"
      },
      "execution_count": 3,
      "outputs": [
        {
          "output_type": "stream",
          "name": "stdout",
          "text": [
            "Accuracy: 1.0\n"
          ]
        }
      ]
    },
    {
      "cell_type": "code",
      "source": [
        "#19. Write a Python program to train a Decision Tree Regressor on a housing dataset and evaluate using Mean Squared Error (MSE).\n",
        "\n",
        "from sklearn.datasets import fetch_california_housing\n",
        "from sklearn.tree import DecisionTreeRegressor\n",
        "from sklearn.metrics import mean_squared_error\n",
        "\n",
        "housing = fetch_california_housing()\n",
        "X_train, X_test, y_train, y_test = train_test_split(housing.data, housing.target, test_size=0.2, random_state=42)\n",
        "\n",
        "regressor = DecisionTreeRegressor()\n",
        "regressor.fit(X_train, y_train)\n",
        "y_pred = regressor.predict(X_test)\n",
        "\n",
        "print(\"MSE:\", mean_squared_error(y_test, y_pred))"
      ],
      "metadata": {
        "colab": {
          "base_uri": "https://localhost:8080/"
        },
        "id": "J88igjvpsNxf",
        "outputId": "5674b784-6519-4486-e292-486f40691c9b"
      },
      "execution_count": 4,
      "outputs": [
        {
          "output_type": "stream",
          "name": "stdout",
          "text": [
            "MSE: 0.49088814174830425\n"
          ]
        }
      ]
    },
    {
      "cell_type": "code",
      "source": [
        "#20. Write a Python program to train a Decision Tree Classifier and visualize the tree using graphviz.\n",
        "\n",
        "from sklearn.tree import export_graphviz\n",
        "import graphviz\n",
        "\n",
        "dot_data = export_graphviz(model, out_file=None,\n",
        "                           feature_names=iris.feature_names,\n",
        "                           class_names=iris.target_names,\n",
        "                           filled=True, rounded=True)\n",
        "graph = graphviz.Source(dot_data)\n",
        "graph.render(\"iris_tree\", view=True)"
      ],
      "metadata": {
        "colab": {
          "base_uri": "https://localhost:8080/",
          "height": 35
        },
        "id": "FYetGTKtse-C",
        "outputId": "812d7999-e152-454a-ae29-45c649dda6a4"
      },
      "execution_count": 32,
      "outputs": [
        {
          "output_type": "execute_result",
          "data": {
            "text/plain": [
              "'iris_tree.pdf'"
            ],
            "application/vnd.google.colaboratory.intrinsic+json": {
              "type": "string"
            }
          },
          "metadata": {},
          "execution_count": 32
        }
      ]
    },
    {
      "cell_type": "code",
      "source": [
        "#21. Train a Decision Tree Classifier with a max depth of 3 and compare its accuracy with a fully grown tree.\n",
        "\n",
        "import numpy as np\n",
        "import pandas as pd\n",
        "from sklearn.tree import DecisionTreeClassifier\n",
        "from sklearn.metrics import accuracy_score\n",
        "\n",
        "# Define bins and labels\n",
        "bins = np.linspace(y_train.min() - 1, y_train.max() + 1, num=4)  # 3 classes\n",
        "labels = [0, 1, 2]\n",
        "\n",
        "# Convert continuous targets to classes\n",
        "y_train_class = pd.cut(y_train, bins=bins, labels=labels, include_lowest=True).astype(int)\n",
        "y_test_class = pd.cut(y_test, bins=bins, labels=labels, include_lowest=True).astype(int)\n",
        "\n",
        "# Train fully grown classifier\n",
        "model = DecisionTreeClassifier(random_state=42)\n",
        "model.fit(X_train, y_train_class)\n",
        "\n",
        "# Train limited depth classifier\n",
        "model_limited = DecisionTreeClassifier(max_depth=3, random_state=42)\n",
        "model_limited.fit(X_train, y_train_class)\n",
        "\n",
        "# Predict and evaluate\n",
        "y_pred_limited = model_limited.predict(X_test)\n",
        "y_pred_full = model.predict(X_test)\n",
        "\n",
        "print(\"Accuracy (max_depth=3):\", accuracy_score(y_test_class, y_pred_limited))\n",
        "print(\"Accuracy (fully grown):\", accuracy_score(y_test_class, y_pred_full))"
      ],
      "metadata": {
        "colab": {
          "base_uri": "https://localhost:8080/"
        },
        "id": "2AIjVmMNskiA",
        "outputId": "b4aa0e12-f95a-49a8-ad0d-91948071a42c"
      },
      "execution_count": 25,
      "outputs": [
        {
          "output_type": "stream",
          "name": "stdout",
          "text": [
            "Accuracy (max_depth=3): 1.0\n",
            "Accuracy (fully grown): 1.0\n"
          ]
        }
      ]
    },
    {
      "cell_type": "code",
      "source": [
        "#22. Train a Decision Tree Classifier using min_samples_split=5 and compare its accuracy with the default tree.\n",
        "\n",
        "import numpy as np\n",
        "import pandas as pd\n",
        "from sklearn.tree import DecisionTreeClassifier\n",
        "from sklearn.metrics import accuracy_score\n",
        "\n",
        "# Assuming X_train, X_test, y_train, y_test are defined\n",
        "\n",
        "min_val = y_train.min()\n",
        "max_val = y_train.max()\n",
        "\n",
        "bins = np.linspace(min_val - 1, max_val + 1, num=4)  # 3 bins\n",
        "labels = [0, 1, 2]\n",
        "\n",
        "y_train_class = pd.cut(y_train, bins=bins, labels=labels, include_lowest=True).astype(int)\n",
        "y_test_class = pd.cut(y_test, bins=bins, labels=labels, include_lowest=True).astype(int)\n",
        "\n",
        "model = DecisionTreeClassifier(random_state=42)\n",
        "model.fit(X_train, y_train_class)\n",
        "\n",
        "model_custom = DecisionTreeClassifier(min_samples_split=5, random_state=42)\n",
        "model_custom.fit(X_train, y_train_class)\n",
        "\n",
        "print(\"Accuracy (min_samples_split=5):\", accuracy_score(y_test_class, model_custom.predict(X_test)))\n",
        "print(\"Accuracy (default):\", accuracy_score(y_test_class, model.predict(X_test)))"
      ],
      "metadata": {
        "colab": {
          "base_uri": "https://localhost:8080/"
        },
        "id": "hK1LwhIXstyJ",
        "outputId": "622323c1-624b-4f76-d25b-e13c6800da94"
      },
      "execution_count": 24,
      "outputs": [
        {
          "output_type": "stream",
          "name": "stdout",
          "text": [
            "Accuracy (min_samples_split=5): 1.0\n",
            "Accuracy (default): 1.0\n"
          ]
        }
      ]
    },
    {
      "cell_type": "code",
      "source": [
        "#23. Apply feature scaling before training a Decision Tree Classifier and compare its accuracy with unscaled data.\n",
        "\n",
        "from sklearn.datasets import load_iris\n",
        "from sklearn.model_selection import train_test_split\n",
        "from sklearn.tree import DecisionTreeClassifier\n",
        "from sklearn.preprocessing import StandardScaler\n",
        "from sklearn.metrics import accuracy_score\n",
        "\n",
        "# Load dataset\n",
        "iris = load_iris()\n",
        "X, y = iris.data, iris.target\n",
        "\n",
        "# Split dataset once, unscaled\n",
        "X_train, X_test, y_train, y_test = train_test_split(X, y, test_size=0.2, random_state=42)\n",
        "\n",
        "# Train on unscaled data\n",
        "model = DecisionTreeClassifier(random_state=42)\n",
        "model.fit(X_train, y_train)\n",
        "print(\"Accuracy without scaling:\", accuracy_score(y_test, model.predict(X_test)))\n",
        "\n",
        "# Now scale data: fit scaler only on training data\n",
        "scaler = StandardScaler()\n",
        "X_train_s = scaler.fit_transform(X_train)\n",
        "X_test_s = scaler.transform(X_test)  # scale test data using the same scaler\n",
        "\n",
        "# Train on scaled data\n",
        "model_scaled = DecisionTreeClassifier(random_state=42)\n",
        "model_scaled.fit(X_train_s, y_train)\n",
        "print(\"Accuracy with scaling:\", accuracy_score(y_test, model_scaled.predict(X_test_s)))"
      ],
      "metadata": {
        "colab": {
          "base_uri": "https://localhost:8080/"
        },
        "id": "aUVac-3Bs2nI",
        "outputId": "e82c5522-bc0b-480a-ff5c-0d561846921b"
      },
      "execution_count": 22,
      "outputs": [
        {
          "output_type": "stream",
          "name": "stdout",
          "text": [
            "Accuracy without scaling: 1.0\n",
            "Accuracy with scaling: 1.0\n"
          ]
        }
      ]
    },
    {
      "cell_type": "code",
      "source": [
        "#24. Train a Decision Tree Classifier using One-vs-Rest (OvR) strategy for multiclass classification.\n",
        "\n",
        "import numpy as np\n",
        "import pandas as pd\n",
        "\n",
        "# Example: Suppose y_train is continuous, you can bin it into classes like this:\n",
        "bins = [0, 1.5, 3.0, 5.0]  # define bin edges according to your data range\n",
        "labels = [0, 1, 2]  # class labels for the bins\n",
        "\n",
        "# Convert continuous targets into categorical classes\n",
        "y_train_binned = pd.cut(y_train, bins=bins, labels=labels, include_lowest=True).astype(int)\n",
        "y_test_binned = pd.cut(y_test, bins=bins, labels=labels, include_lowest=True).astype(int)\n",
        "\n",
        "# Now use y_train_binned and y_test_binned for classification\n",
        "ovr_model = OneVsRestClassifier(DecisionTreeClassifier())\n",
        "ovr_model.fit(X_train, y_train_binned)\n",
        "\n",
        "print(\"OvR Accuracy:\", accuracy_score(y_test_binned, ovr_model.predict(X_test)))"
      ],
      "metadata": {
        "colab": {
          "base_uri": "https://localhost:8080/"
        },
        "id": "UP5EpCids8Xx",
        "outputId": "4eced025-a193-43bc-d557-cccefec2c84c"
      },
      "execution_count": 21,
      "outputs": [
        {
          "output_type": "stream",
          "name": "stdout",
          "text": [
            "OvR Accuracy: 1.0\n"
          ]
        }
      ]
    },
    {
      "cell_type": "code",
      "source": [
        "#25. Train a Decision Tree Classifier and display the feature importance scores.\n",
        "\n",
        "from sklearn.datasets import load_iris\n",
        "from sklearn.tree import DecisionTreeClassifier\n",
        "from sklearn.model_selection import train_test_split\n",
        "\n",
        "# Load Iris dataset — classification problem with discrete class labels\n",
        "iris = load_iris()\n",
        "X = iris.data\n",
        "y = iris.target  # y must be discrete classes: 0, 1, 2\n",
        "\n",
        "# Split the dataset into training and test sets\n",
        "X_train, X_test, y_train, y_test = train_test_split(\n",
        "    X, y, test_size=0.2, random_state=42)\n",
        "\n",
        "# Train a Decision Tree Classifier\n",
        "model = DecisionTreeClassifier(random_state=0)\n",
        "model.fit(X_train, y_train)\n",
        "\n",
        "# Display feature importance\n",
        "print(\"Feature Importances:\")\n",
        "for name, importance in zip(iris.feature_names, model.feature_importances_):\n",
        "    print(f\"{name}: {importance:.4f}\")"
      ],
      "metadata": {
        "colab": {
          "base_uri": "https://localhost:8080/"
        },
        "id": "vwGGaF33tGC3",
        "outputId": "485030ce-4a85-4212-b534-a0d3337997e4"
      },
      "execution_count": 20,
      "outputs": [
        {
          "output_type": "stream",
          "name": "stdout",
          "text": [
            "Feature Importances:\n",
            "sepal length (cm): 0.0000\n",
            "sepal width (cm): 0.0167\n",
            "petal length (cm): 0.4059\n",
            "petal width (cm): 0.5774\n"
          ]
        }
      ]
    },
    {
      "cell_type": "code",
      "source": [
        "#26. Train a Decision Tree Regressor with max_depth=5 and compare its performance with an unrestricted tree.\n",
        "\n",
        "regressor_limited = DecisionTreeRegressor(max_depth=5)\n",
        "regressor_limited.fit(X_train, y_train)\n",
        "\n",
        "print(\"MSE (max_depth=5):\", mean_squared_error(y_test, regressor_limited.predict(X_test)))\n",
        "print(\"MSE (unrestricted):\", mean_squared_error(y_test, regressor.predict(X_test)))"
      ],
      "metadata": {
        "colab": {
          "base_uri": "https://localhost:8080/"
        },
        "id": "GOg4_3RPtLi0",
        "outputId": "179dcac7-2285-41fd-c4c8-209867516124"
      },
      "execution_count": 11,
      "outputs": [
        {
          "output_type": "stream",
          "name": "stdout",
          "text": [
            "MSE (max_depth=5): 0.5245146178314735\n",
            "MSE (unrestricted): 0.49088814174830425\n"
          ]
        }
      ]
    },
    {
      "cell_type": "code",
      "source": [
        "#27. Train a Decision Tree Classifier, apply Cost Complexity Pruning (CCP), and visualize its effect on accuracy.\n",
        "\n",
        "from sklearn.datasets import load_iris\n",
        "from sklearn.tree import DecisionTreeClassifier\n",
        "from sklearn.model_selection import train_test_split\n",
        "from sklearn.metrics import accuracy_score\n",
        "import matplotlib.pyplot as plt\n",
        "\n",
        "# Load a classification dataset\n",
        "iris = load_iris()\n",
        "X = iris.data\n",
        "y = iris.target  # Ensure it's categorical: 0, 1, 2\n",
        "\n",
        "# Split dataset\n",
        "X_train, X_test, y_train, y_test = train_test_split(\n",
        "    X, y, test_size=0.2, random_state=42)\n",
        "\n",
        "# Train initial classifier to obtain CCP alphas\n",
        "model = DecisionTreeClassifier(random_state=0)\n",
        "path = model.cost_complexity_pruning_path(X_train, y_train)\n",
        "ccp_alphas = path.ccp_alphas\n",
        "\n",
        "# Train classifiers for each ccp_alpha and record accuracy\n",
        "accuracies = []\n",
        "models = []\n",
        "\n",
        "for alpha in ccp_alphas:\n",
        "    clf = DecisionTreeClassifier(random_state=0, ccp_alpha=alpha)\n",
        "    clf.fit(X_train, y_train)\n",
        "    acc = accuracy_score(y_test, clf.predict(X_test))\n",
        "    accuracies.append(acc)\n",
        "    models.append(clf)\n",
        "    print(f\"ccp_alpha = {alpha:.5f}, Accuracy = {acc:.4f}\")\n",
        "\n",
        "# Plot accuracy vs ccp_alpha\n",
        "plt.figure(figsize=(10, 6))\n",
        "plt.plot(ccp_alphas, accuracies, marker='o', linestyle='-')\n",
        "plt.xlabel('ccp_alpha')\n",
        "plt.ylabel('Accuracy on Test Set')\n",
        "plt.title('Effect of Cost Complexity Pruning on Accuracy')\n",
        "plt.grid(True)\n",
        "plt.show()"
      ],
      "metadata": {
        "colab": {
          "base_uri": "https://localhost:8080/",
          "height": 703
        },
        "id": "6WxzOaZktSO-",
        "outputId": "a2556dbd-8996-421e-debb-9bc1139f01d7"
      },
      "execution_count": 19,
      "outputs": [
        {
          "output_type": "stream",
          "name": "stdout",
          "text": [
            "ccp_alpha = 0.00000, Accuracy = 1.0000\n",
            "ccp_alpha = 0.00810, Accuracy = 1.0000\n",
            "ccp_alpha = 0.01111, Accuracy = 1.0000\n",
            "ccp_alpha = 0.01111, Accuracy = 1.0000\n",
            "ccp_alpha = 0.01622, Accuracy = 1.0000\n",
            "ccp_alpha = 0.02412, Accuracy = 0.9667\n",
            "ccp_alpha = 0.24327, Accuracy = 0.6333\n",
            "ccp_alpha = 0.33340, Accuracy = 0.3000\n"
          ]
        },
        {
          "output_type": "display_data",
          "data": {
            "text/plain": [
              "<Figure size 1000x600 with 1 Axes>"
            ],
            "image/png": "[encoded data removed]"
          },
          "metadata": {}
        }
      ]
    },
    {
      "cell_type": "code",
      "source": [
        "#28. Train a Decision Tree Classifier and evaluate its performance using Precision, Recall, and F1-Score.\n",
        "\n",
        "from sklearn.datasets import load_iris\n",
        "from sklearn.tree import DecisionTreeClassifier\n",
        "from sklearn.model_selection import train_test_split\n",
        "from sklearn.metrics import precision_score, recall_score, f1_score\n",
        "\n",
        "# Load Iris dataset (for classification)\n",
        "iris = load_iris()\n",
        "X = iris.data\n",
        "y = iris.target  # Ensure labels are discrete (0, 1, 2)\n",
        "\n",
        "# Split dataset into train and test sets\n",
        "X_train, X_test, y_train, y_test = train_test_split(\n",
        "    X, y, test_size=0.2, random_state=42)\n",
        "\n",
        "# Train a Decision Tree Classifier\n",
        "model = DecisionTreeClassifier()\n",
        "model.fit(X_train, y_train)\n",
        "\n",
        "# Predict on the test set\n",
        "y_pred = model.predict(X_test)\n",
        "\n",
        "# Evaluate using classification metrics\n",
        "print(\"Precision (macro):\", precision_score(y_test, y_pred, average='macro'))\n",
        "print(\"Recall (macro):\", recall_score(y_test, y_pred, average='macro'))\n",
        "print(\"F1-Score (macro):\", f1_score(y_test, y_pred, average='macro'))"
      ],
      "metadata": {
        "colab": {
          "base_uri": "https://localhost:8080/"
        },
        "id": "4Wrwbta7tXgE",
        "outputId": "09f0bd31-57fe-4359-c5c0-2945a78fa442"
      },
      "execution_count": 18,
      "outputs": [
        {
          "output_type": "stream",
          "name": "stdout",
          "text": [
            "Precision (macro): 1.0\n",
            "Recall (macro): 1.0\n",
            "F1-Score (macro): 1.0\n"
          ]
        }
      ]
    },
    {
      "cell_type": "code",
      "source": [
        "#29. Train a Decision Tree Classifier and visualize the confusion matrix using seaborn.\n",
        "\n",
        "from sklearn.datasets import load_iris\n",
        "from sklearn.tree import DecisionTreeClassifier\n",
        "from sklearn.model_selection import train_test_split\n",
        "from sklearn.metrics import confusion_matrix\n",
        "import seaborn as sns\n",
        "import matplotlib.pyplot as plt\n",
        "\n",
        "# Load Iris dataset\n",
        "iris = load_iris()\n",
        "X = iris.data\n",
        "y = iris.target  # Ensure these are discrete classes\n",
        "\n",
        "# Split the dataset\n",
        "X_train, X_test, y_train, y_test = train_test_split(X, y, test_size=0.2, random_state=42)\n",
        "\n",
        "# Train a Decision Tree Classifier\n",
        "model = DecisionTreeClassifier()\n",
        "model.fit(X_train, y_train)\n",
        "\n",
        "# Generate predictions\n",
        "y_pred = model.predict(X_test)\n",
        "\n",
        "# Compute confusion matrix\n",
        "cm = confusion_matrix(y_test, y_pred)\n",
        "\n",
        "# Plot confusion matrix using seaborn\n",
        "sns.heatmap(cm, annot=True, fmt='d', cmap='Blues',\n",
        "            xticklabels=iris.target_names,\n",
        "            yticklabels=iris.target_names)\n",
        "plt.xlabel(\"Predicted\")\n",
        "plt.ylabel(\"Actual\")\n",
        "plt.title(\"Confusion Matrix\")\n",
        "plt.show()"
      ],
      "metadata": {
        "colab": {
          "base_uri": "https://localhost:8080/",
          "height": 472
        },
        "id": "71YYjezXtdUC",
        "outputId": "6764622f-ce4a-45aa-f62b-fdd263398ee2"
      },
      "execution_count": 17,
      "outputs": [
        {
          "output_type": "display_data",
          "data": {
            "text/plain": [
              "<Figure size 640x480 with 2 Axes>"
            ],
            "image/png": "[encoded data removed]"
          },
          "metadata": {}
        }
      ]
    },
    {
      "cell_type": "code",
      "source": [
        "#30. Train a Decision Tree Classifier and use GridSearchCV to find the optimal values for max_depth and min_samples_split.\n",
        "\n",
        "from sklearn.datasets import load_iris\n",
        "from sklearn.tree import DecisionTreeClassifier\n",
        "from sklearn.model_selection import train_test_split, GridSearchCV\n",
        "\n",
        "# Load classification dataset\n",
        "iris = load_iris()\n",
        "X = iris.data\n",
        "y = iris.target  # Ensure y is categorical (0, 1, 2)\n",
        "\n",
        "# Train-test split\n",
        "X_train, X_test, y_train, y_test = train_test_split(X, y, test_size=0.2, random_state=42)\n",
        "\n",
        "# Define hyperparameter grid\n",
        "param_grid = {\n",
        "    'max_depth': [3, 5, None],\n",
        "    'min_samples_split': [2, 5, 10]\n",
        "}\n",
        "\n",
        "# Apply GridSearchCV with DecisionTreeClassifier\n",
        "grid_search = GridSearchCV(DecisionTreeClassifier(), param_grid, cv=5)\n",
        "grid_search.fit(X_train, y_train)\n",
        "\n",
        "# Output best results\n",
        "print(\"Best Parameters:\", grid_search.best_params_)\n",
        "print(\"Best Cross-Validation Accuracy: {:.4f}\".format(grid_search.best_score_))"
      ],
      "metadata": {
        "colab": {
          "base_uri": "https://localhost:8080/"
        },
        "id": "tgVDKSlWtipc",
        "outputId": "305a5104-0fe3-4d8f-8d49-f5cca704f54c"
      },
      "execution_count": 16,
      "outputs": [
        {
          "output_type": "stream",
          "name": "stdout",
          "text": [
            "Best Parameters: {'max_depth': None, 'min_samples_split': 2}\n",
            "Best Cross-Validation Accuracy: 0.9500\n"
          ]
        }
      ]
    }
  ]
}